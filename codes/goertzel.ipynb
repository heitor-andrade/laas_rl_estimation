{
 "cells": [
  {
   "cell_type": "code",
   "execution_count": 1,
   "metadata": {},
   "outputs": [
    {
     "name": "stdout",
     "output_type": "stream",
     "text": [
      "Magnitude: 11024.999999995263\n",
      "Phase (radians): -1.7132721841009246\n"
     ]
    }
   ],
   "source": [
    "import math\n",
    "\n",
    "def goertzel(samples, target_freq, sample_rate):\n",
    "    N = len(samples)\n",
    "    k = int(0.5 + (N * target_freq) / sample_rate)\n",
    "    w = (2.0 * math.pi * k) / N\n",
    "    cosine = 2.0 * math.cos(w)\n",
    "    sine = math.sin(w)\n",
    "    \n",
    "    Q0 = 0\n",
    "    Q1 = 0\n",
    "    Q2 = 0\n",
    "    \n",
    "    for x in samples:\n",
    "        Q0 = x + cosine * Q1 - Q2\n",
    "        Q2 = Q1\n",
    "        Q1 = Q0\n",
    "    \n",
    "    real_part = (Q1 - Q2 * math.cos(w))\n",
    "    imag_part = (Q2 * math.sin(w))\n",
    "    \n",
    "    magnitude = math.sqrt(real_part**2 + imag_part**2)\n",
    "    \n",
    "    phase = math.atan2(imag_part, real_part)\n",
    "    \n",
    "    return magnitude, phase\n",
    "\n",
    "# Example usage\n",
    "sample_rate = 44100  # Sample rate in Hz\n",
    "target_freq = 1000  # Target frequency in Hz\n",
    "duration = 1.0      # Duration of the signal\n",
    "num_samples = int(sample_rate * duration)\n",
    "\n",
    "# Create a sample signal (sine wave)\n",
    "import numpy as np\n",
    "t = np.linspace(0, duration, num_samples, endpoint=False)\n",
    "signal = 0.5 * np.sin(2 * np.pi * target_freq * t)\n",
    "\n",
    "# Calculate Goertzel magnitude and phase\n",
    "magnitude, phase = goertzel(signal, target_freq, sample_rate)\n",
    "print(\"Magnitude:\", magnitude)\n",
    "print(\"Phase (radians):\", phase)\n"
   ]
  }
 ],
 "metadata": {
  "kernelspec": {
   "display_name": "Python 3",
   "language": "python",
   "name": "python3"
  },
  "language_info": {
   "codemirror_mode": {
    "name": "ipython",
    "version": 3
   },
   "file_extension": ".py",
   "mimetype": "text/x-python",
   "name": "python",
   "nbconvert_exporter": "python",
   "pygments_lexer": "ipython3",
   "version": "3.8.10"
  }
 },
 "nbformat": 4,
 "nbformat_minor": 2
}
